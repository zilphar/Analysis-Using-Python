{
 "cells": [
  {
   "cell_type": "code",
   "execution_count": null,
   "metadata": {},
   "outputs": [],
   "source": [
    "import numpy as np\n",
    "import pandas as pd \n",
    "import matplotlib as mpl\n",
    "import matplotlib.pyplot as plt\n",
    "\n",
    "Employees = pd.read_csv(\"Employee.csv\")\n",
    "print(Employees) #prints the first five rows and last fibe rows of the data \n",
    "\n",
    "print(Employees.to_string()) # prints all the rows with data in the dataframe \n",
    "\n",
    "print(Employees.dtypes)  # checks for the data types of the columns in the table \n",
    "\n",
    "# technical summary of the data \n",
    "print(Employees.info())  # there are no null values \n",
    "\n",
    "#summary statistics of the numerical data \n",
    "print(Employees.describe()) # gives the summary statistics of the id which is nor required. Let's change that \n",
    "print(Employees[[\"Age\", \"AnnualSalary\", \"Bonus\"]].describe())\n",
    "\n",
    "# iterate through the dataframe to look for null values \n",
    "for index, row in Employees.iterrows():\n",
    "    for column in Employees.columns:\n",
    "        if pd.isnull(row[column]):\n",
    "            print(f\"Null value and index {index} in column {column}: {row[column]}\")  # it does not return any values meaning there are no null values as seen before "
   ]
  },
  {
   "cell_type": "code",
   "execution_count": null,
   "metadata": {},
   "outputs": [],
   "source": [
    "# mean, mode, and median of numerical data (age, annualsalary, bonus)\n",
    "#print(Employees[[\"Age\", \"AnnualSalary\", \"Bonus\"]].describe())  # gives the count, mean, std,max, min, and quartiles\n",
    "\n",
    "modetatistics = Employees[[\"Age\", \"AnnualSalary\", \"Bonus\"]].mode().iloc[0]  # mode is the most frequent value\n",
    "print(modetatistics)   # the mode() alone returns a dataframe but when used with iloc[0] it select the first row of the resulting dataframe which contains the modes for each column selected\n",
    "\n",
    "medianstatistics = Employees[[\"Age\", \"AnnualSalary\", \"Bonus\"]].median() # the middle value (the values for this dataframe are even meaig tehre are tow meadian values which are taken and divided by 2 to get the median)\n",
    "print(medianstatistics)  "
   ]
  },
  {
   "cell_type": "code",
   "execution_count": null,
   "metadata": {},
   "outputs": [],
   "source": [
    "# Employees whose age is greater than 35 years \n",
    "\n",
    "Age_35 = Employees[Employees[\"Age\"] > 35]\n",
    "print(Age_35.shape)  # 737 of the employees are 35 years and above. 14 columns \n",
    "\n",
    "    # work with only the desired rows (prints 737 rows and 4 columns)\n",
    "desired_columns = [\"FullName\", \"Gender\", \"Age\",\"Country\", \"AnnualSalary\"]\n",
    "Age_35 = Employees[Employees[\"Age\"] > 35]\n",
    "print(Age_35[desired_columns].shape)  # using to_string() here prints all 737 employees data in the dataframe \n",
    "\n",
    "# Filtering Employees in the United states \n",
    "US_employees = Employees[Employees[\"Country\"].isin([\"United States\"])]\n",
    "print(US_employees.shape)  # 643 employees are in the United States \n",
    "    \n",
    "    # Employees in United States that are 35 years and above \n",
    "US_employees = Age_35[Age_35[\"Country\"].isin([\"United States\"])]\n",
    "print(US_employees.shape)  # 465 of employees in the UNited states are above 35 years of age \n",
    "\n",
    "# Countries and the number of employees that reside there \n",
    "Countries = pd.unique(Employees[\"Country\"])\n",
    "print(Countries)  # prints United States, Brazil, and China \n",
    "\n",
    "Employees_percountry = Employees[\"Country\"].value_counts()\n",
    "print(Employees_percountry)  # The United States has the highestnumber of employees with Brazil having the least (139)\n",
    "\n",
    "# The employees who are above 35 years and live in Beijing \n",
    "Above35_inBeijing = Employees[(Employees[\"Age\"] > 35) & (Employees[\"City\"] == \"Beijing\")]\n",
    "print(Above35_inBeijing.shape)  # 46 employees live in Beijing and are 35 years of age and above \n",
    "\n",
    "# female and male employees \n",
    "Employee_gender = Employees[\"Gender\"].value_counts()\n",
    "print(Employee_gender)  # 518 females and 481 males "
   ]
  },
  {
   "cell_type": "code",
   "execution_count": null,
   "metadata": {},
   "outputs": [],
   "source": [
    "# max and min hire date \n",
    "    # convert the hiredate to datetime because it is stored as objects \n",
    "print(Employees[\"HireDate\"].dtype) # object\n",
    "\n",
    "Employees[\"HireDate\"] = pd.to_datetime(Employees[\"HireDate\"])\n",
    "print(Employees[\"HireDate\"].dtype)  # becomes a datetime datatype \n",
    "\n",
    "print(Employees[\"HireDate\"].max(), Employees[\"HireDate\"].min())"
   ]
  },
  {
   "cell_type": "code",
   "execution_count": null,
   "metadata": {},
   "outputs": [],
   "source": [
    "# create new columns in the dataset \n",
    "    # create a year column \n",
    "Employees[\"Year\"] = Employees[\"HireDate\"].dt.year\n",
    "print(Employees[\"Year\"].shape)  # create a column with only the year part of the original Hiredate column \n",
    "\n",
    "    # create a bonus amount column \n",
    "Employees[\"BonusAmount\"] = Employees[\"AnnualSalary\"] * Employees[\"Bonus\"]\n",
    "print(Employees[\"BonusAmount\"]) \n",
    "\n",
    "    # create a column for the total compensation which is the BonusAmount plus the AnnualSalary \n",
    "Employees[\"TotalCompensation\"] = Employees[\"BonusAmount\"] + Employees[\"AnnualSalary\"]\n",
    "print(Employees[\"TotalCompensation\"])\n",
    "\n",
    "# print the final table \n",
    "print(Employees.shape)  # 1000 rows and 17 rows "
   ]
  }
 ],
 "metadata": {
  "kernelspec": {
   "display_name": "Python 3",
   "language": "python",
   "name": "python3"
  },
  "language_info": {
   "codemirror_mode": {
    "name": "ipython",
    "version": 3
   },
   "file_extension": ".py",
   "mimetype": "text/x-python",
   "name": "python",
   "nbconvert_exporter": "python",
   "pygments_lexer": "ipython3",
   "version": "3.10.11"
  }
 },
 "nbformat": 4,
 "nbformat_minor": 2
}
